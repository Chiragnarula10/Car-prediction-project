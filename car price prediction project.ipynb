{
 "cells": [
  {
   "cell_type": "markdown",
   "id": "4c909d43",
   "metadata": {},
   "source": [
    "# PROJECT"
   ]
  },
  {
   "cell_type": "markdown",
   "id": "0bcfb417",
   "metadata": {},
   "source": [
    "- 1.The aim is to predict the price of used cars as per the data set having prior knowledge using some features like fuel type, kms driven etc.\n",
    "- 2.The number of people who prefer which fuel type from visualizing data.\n"
   ]
  },
  {
   "cell_type": "markdown",
   "id": "b7654708",
   "metadata": {},
   "source": [
    "# Importing Modules"
   ]
  },
  {
   "cell_type": "code",
   "execution_count": 1,
   "id": "f3f9775c",
   "metadata": {},
   "outputs": [],
   "source": [
    "import numpy as np\n",
    "import pandas as pd\n",
    "import scipy\n",
    "from scipy.stats import zscore\n",
    "import matplotlib.pyplot as plt\n",
    "import sklearn \n",
    "from sklearn.preprocessing import LabelEncoder\n",
    "from sklearn.preprocessing import StandardScaler\n",
    "from sklearn.preprocessing import power_transform\n",
    "from sklearn.preprocessing import MinMaxScaler\n",
    "from sklearn.model_selection import train_test_split\n",
    "from sklearn.linear_model import LinearRegression\n",
    "from sklearn.linear_model import SGDRegressor\n",
    "from sklearn.tree import DecisionTreeRegressor\n",
    "from sklearn.neighbors import KNeighborsRegressor\n",
    "from sklearn.ensemble import RandomForestRegressor\n",
    "from sklearn.svm import SVR\n",
    "from sklearn.metrics import mean_squared_error, mean_absolute_error, r2_score\n",
    "from sklearn.model_selection import cross_val_score as cvs\n",
    "from sklearn.model_selection import GridSearchCV\n",
    "import seaborn as sn\n",
    "import warnings\n",
    "warnings.filterwarnings('ignore')"
   ]
  },
  {
   "cell_type": "markdown",
   "id": "79dbc97c",
   "metadata": {},
   "source": [
    "# Loading Dataset"
   ]
  },
  {
   "cell_type": "code",
   "execution_count": 2,
   "id": "333ff85f",
   "metadata": {},
   "outputs": [
    {
     "data": {
      "text/html": [
       "<div>\n",
       "<style scoped>\n",
       "    .dataframe tbody tr th:only-of-type {\n",
       "        vertical-align: middle;\n",
       "    }\n",
       "\n",
       "    .dataframe tbody tr th {\n",
       "        vertical-align: top;\n",
       "    }\n",
       "\n",
       "    .dataframe thead th {\n",
       "        text-align: right;\n",
       "    }\n",
       "</style>\n",
       "<table border=\"1\" class=\"dataframe\">\n",
       "  <thead>\n",
       "    <tr style=\"text-align: right;\">\n",
       "      <th></th>\n",
       "      <th>Brand &amp; Model</th>\n",
       "      <th>Varient</th>\n",
       "      <th>Fuel Type</th>\n",
       "      <th>Driven Kilometers</th>\n",
       "      <th>Transmission</th>\n",
       "      <th>Owner</th>\n",
       "      <th>Location</th>\n",
       "      <th>Date of Posting Ad</th>\n",
       "      <th>Price (in ₹)</th>\n",
       "    </tr>\n",
       "  </thead>\n",
       "  <tbody>\n",
       "    <tr>\n",
       "      <th>0</th>\n",
       "      <td>Mahindra Xuv500 (2013)</td>\n",
       "      <td>W8 Dual Tone</td>\n",
       "      <td>DIESEL</td>\n",
       "      <td>58,000 KM</td>\n",
       "      <td>MANUAL</td>\n",
       "      <td>1st Owner</td>\n",
       "      <td>Pitampura, Delhi</td>\n",
       "      <td>01/27/2022</td>\n",
       "      <td>435000</td>\n",
       "    </tr>\n",
       "    <tr>\n",
       "      <th>1</th>\n",
       "      <td>Hyundai Creta (2020)</td>\n",
       "      <td>1.6 SX Option Executive Diesel</td>\n",
       "      <td>DIESEL</td>\n",
       "      <td>43861.0 KM</td>\n",
       "      <td>MANUAL</td>\n",
       "      <td>1st Owner</td>\n",
       "      <td>Ahiritola, Kolkata</td>\n",
       "      <td>01/23/2022</td>\n",
       "      <td>1165101</td>\n",
       "    </tr>\n",
       "    <tr>\n",
       "      <th>2</th>\n",
       "      <td>Hyundai Verna (2019)</td>\n",
       "      <td>VTVT 1.4 EX</td>\n",
       "      <td>PETROL</td>\n",
       "      <td>17,000 KM</td>\n",
       "      <td>MANUAL</td>\n",
       "      <td>2nd Owner</td>\n",
       "      <td>Chelavoor, Pantheeramkavu</td>\n",
       "      <td>01/25/2022</td>\n",
       "      <td>815000</td>\n",
       "    </tr>\n",
       "    <tr>\n",
       "      <th>3</th>\n",
       "      <td>Datsun Redigo (2020)</td>\n",
       "      <td>D</td>\n",
       "      <td>PETROL</td>\n",
       "      <td>10000 KM</td>\n",
       "      <td>MANUAL</td>\n",
       "      <td>1st Owner</td>\n",
       "      <td>Palam, Delhi</td>\n",
       "      <td>01/13/2022</td>\n",
       "      <td>270000</td>\n",
       "    </tr>\n",
       "    <tr>\n",
       "      <th>4</th>\n",
       "      <td>Hyundai I10 (2011)</td>\n",
       "      <td>Sportz 1.1 iRDE2</td>\n",
       "      <td>PETROL</td>\n",
       "      <td>70000 KM</td>\n",
       "      <td>MANUAL</td>\n",
       "      <td>1st Owner</td>\n",
       "      <td>Dwarka Sector 13, Delhi</td>\n",
       "      <td>01/13/2022</td>\n",
       "      <td>185000</td>\n",
       "    </tr>\n",
       "  </tbody>\n",
       "</table>\n",
       "</div>"
      ],
      "text/plain": [
       "            Brand & Model                         Varient Fuel Type  \\\n",
       "0  Mahindra Xuv500 (2013)                    W8 Dual Tone    DIESEL   \n",
       "1    Hyundai Creta (2020)  1.6 SX Option Executive Diesel    DIESEL   \n",
       "2    Hyundai Verna (2019)                     VTVT 1.4 EX    PETROL   \n",
       "3    Datsun Redigo (2020)                               D    PETROL   \n",
       "4      Hyundai I10 (2011)                Sportz 1.1 iRDE2    PETROL   \n",
       "\n",
       "  Driven Kilometers Transmission      Owner                   Location  \\\n",
       "0         58,000 KM       MANUAL  1st Owner           Pitampura, Delhi   \n",
       "1        43861.0 KM       MANUAL  1st Owner         Ahiritola, Kolkata   \n",
       "2         17,000 KM       MANUAL  2nd Owner  Chelavoor, Pantheeramkavu   \n",
       "3          10000 KM       MANUAL  1st Owner               Palam, Delhi   \n",
       "4          70000 KM       MANUAL  1st Owner    Dwarka Sector 13, Delhi   \n",
       "\n",
       "  Date of Posting Ad  Price (in ₹)  \n",
       "0         01/27/2022        435000  \n",
       "1         01/23/2022       1165101  \n",
       "2         01/25/2022        815000  \n",
       "3         01/13/2022        270000  \n",
       "4         01/13/2022        185000  "
      ]
     },
     "execution_count": 2,
     "metadata": {},
     "output_type": "execute_result"
    }
   ],
   "source": [
    "car = pd.read_csv(\"C:/Users\\CHIRAG\\Downloads\\car_prediction.csv\")\n",
    "car.head()"
   ]
  },
  {
   "cell_type": "markdown",
   "id": "095eaaec",
   "metadata": {},
   "source": [
    "# Statistics Data Infomation"
   ]
  },
  {
   "cell_type": "code",
   "execution_count": 3,
   "id": "5d63a2b3",
   "metadata": {},
   "outputs": [
    {
     "name": "stdout",
     "output_type": "stream",
     "text": [
      "<class 'pandas.core.frame.DataFrame'>\n",
      "RangeIndex: 5050 entries, 0 to 5049\n",
      "Data columns (total 9 columns):\n",
      " #   Column              Non-Null Count  Dtype \n",
      "---  ------              --------------  ----- \n",
      " 0   Brand & Model       5050 non-null   object\n",
      " 1   Varient             5011 non-null   object\n",
      " 2   Fuel Type           5050 non-null   object\n",
      " 3   Driven Kilometers   5050 non-null   object\n",
      " 4   Transmission        5050 non-null   object\n",
      " 5   Owner               5050 non-null   object\n",
      " 6   Location            5050 non-null   object\n",
      " 7   Date of Posting Ad  5050 non-null   object\n",
      " 8   Price (in ₹)        5050 non-null   int64 \n",
      "dtypes: int64(1), object(8)\n",
      "memory usage: 355.2+ KB\n"
     ]
    }
   ],
   "source": [
    "car.info()"
   ]
  },
  {
   "cell_type": "code",
   "execution_count": 4,
   "id": "da5f8a5a",
   "metadata": {},
   "outputs": [
    {
     "data": {
      "text/plain": [
       "(5050, 9)"
      ]
     },
     "execution_count": 4,
     "metadata": {},
     "output_type": "execute_result"
    }
   ],
   "source": [
    "car.shape"
   ]
  },
  {
   "cell_type": "markdown",
   "id": "29c97313",
   "metadata": {},
   "source": [
    "# Preprocessing for cleaning"
   ]
  },
  {
   "cell_type": "code",
   "execution_count": 5,
   "id": "7de7f2cc",
   "metadata": {},
   "outputs": [
    {
     "data": {
      "text/plain": [
       "Brand & Model          0\n",
       "Varient               39\n",
       "Fuel Type              0\n",
       "Driven Kilometers      0\n",
       "Transmission           0\n",
       "Owner                  0\n",
       "Location               0\n",
       "Date of Posting Ad     0\n",
       "Price (in ₹)           0\n",
       "dtype: int64"
      ]
     },
     "execution_count": 5,
     "metadata": {},
     "output_type": "execute_result"
    }
   ],
   "source": [
    "#Checking for Null values\n",
    "car.isnull().sum()"
   ]
  },
  {
   "cell_type": "code",
   "execution_count": 6,
   "id": "b05032c1",
   "metadata": {},
   "outputs": [
    {
     "data": {
      "text/plain": [
       "Index(['Brand & Model', 'Varient', 'Fuel Type', 'Driven Kilometers',\n",
       "       'Transmission', 'Owner', 'Location', 'Date of Posting Ad',\n",
       "       'Price (in ₹)'],\n",
       "      dtype='object')"
      ]
     },
     "execution_count": 6,
     "metadata": {},
     "output_type": "execute_result"
    }
   ],
   "source": [
    "car.columns"
   ]
  },
  {
   "cell_type": "code",
   "execution_count": 7,
   "id": "43e54d9c",
   "metadata": {},
   "outputs": [
    {
     "data": {
      "text/plain": [
       "array([ 435000, 1165101,  815000,  270000,  185000,  740000,  418500,\n",
       "        480000,  320000,  490000, 1025000,  420000,  540000,  600000,\n",
       "        530000,  150000,  165000,  329000,  450000,  595000,  520000,\n",
       "        775000,   15000,  315000, 1095000, 1775000,   38000,   73000,\n",
       "        425000,  675000,  220000,  230000,  380000,  180000,   65000,\n",
       "         70000,  750000, 1950000,  725000,  290000,  127000,  415000,\n",
       "        171000,  210000,  260000,  580000,  399999,  780000, 1675000,\n",
       "        225000,  296000, 3200000,   99999,  222000,  170000,  910000,\n",
       "        850000,  965000,  350000,  525000,  985000, 3500000,   85000,\n",
       "         49999, 1585000, 2350000,  475000,  485000,  110000,  400000,\n",
       "        465000,  200000,   35000,  235000,  175000, 1600000,  645000,\n",
       "        280000, 2100000,  620000, 1750000, 2400000,  500000, 2899999,\n",
       "        370000,  800000,  493000,   90000,  345000, 1200000, 1550000,\n",
       "        410000, 4850000, 1499000,  379000,  899999, 3450000,  289000,\n",
       "        340000,  538999, 2199000,  760000,  825000, 1835000,  295000,\n",
       "        411000,  190000,  155000,  625000,  550000,  349000,  325000,\n",
       "       1785000, 1850000, 1685000,  895000,  785000,  160000,  310000,\n",
       "       1050000, 6450000, 7175000,  519000,  699000,   30000,   99000,\n",
       "         46000,  700000,  360000,  120000,   95000,  355000,  275000,\n",
       "       2275000,  129000,  720000,  575000,  565000,  470000,  249000,\n",
       "        215000,   50000,  599000,  395000,  456699,  374999,  372199,\n",
       "        559199,  781299,  372699,  695099,  333799,  691099, 1097199,\n",
       "        574099,  544999,  371099, 1383199,  697499,  507999,  940799,\n",
       "        254199,  407499,  843899, 1721299,  688699,  896399,  418399,\n",
       "        263199,  581099,  716999, 1843799,  448199,  516899, 1251099,\n",
       "       1802899,  547399,  950999,  422699,  558999, 1661799,  435999,\n",
       "        485299,  725899,  559299,  497999,  894399,  827899,  532899,\n",
       "        508499,  975699,  260999,  507399,  507299,  552299,  840299,\n",
       "        593199, 1333199,  469799,  877099,  300599,  718799,  841999,\n",
       "        501699,  421699,  318499,  449799,  508999,  793899, 1097599,\n",
       "       1575499,  446099,  299299,  492099,  471199,  574799,  581699,\n",
       "        506799,  402799,  926199,  631699,  757899,  562899, 1783499,\n",
       "        555699,  554199,  559799, 1341199, 1215399,  637999, 1268299,\n",
       "        517099,  437699, 1258899, 1282999,  449599, 2760299,  532099,\n",
       "        560099,  365399,  638899,  704399,  624799,  966999,  559899,\n",
       "        866699,  640899,  646299,  492599,  658899,  657899,  646799,\n",
       "        517599,  678399,  685199,  517399,  421599, 1077899,  726099,\n",
       "        646199,  668199,  535799,  730699,  731399,  337199,  378099,\n",
       "        359099,  426999,  696599,  607099,  764599,  474499,  753199,\n",
       "        596099,  515999,  557499,  710499,  719999,  740799,  479899,\n",
       "        502399,  756599,  586599,  576499,  391799,  761599,  729799,\n",
       "        730899,  568299,  438899,  634699,  628399,  601499,  813399,\n",
       "       1189199,  853199,  834799,  846299,  783999,  621999,  672999,\n",
       "        631899,  676099,  828899,  875599,  909999,  746799,  850499,\n",
       "        457899,  527499,  807899, 1391999,  611499,  316999,  636999,\n",
       "       1491399,  334899,  731699,  437299,  716799,  313499,  313599,\n",
       "       1603999,  466699, 1235999,  475799,  701699,  564899,  516099,\n",
       "        714599,  553599,  792399,  527699,  452799,  860699,  911999,\n",
       "        771899,  750799,  753599,  786599,  778199,  787899,  394099,\n",
       "        306599,  317099,  794899,  562499,  608899,  606699,  900599,\n",
       "       1740299,  821799,  844899,  816899,  388699,  841299,  391599,\n",
       "        344499,  854199,  272199,  367099,  352499,  592499,  449699,\n",
       "        397099,  382199,  325399,  345099,  578799,  395899,  695499,\n",
       "        335599,  394799,  328299,  355699,  353899,  548099,  355799,\n",
       "        322399,  504899,  334799,  387899,  501199,  503399,  330399,\n",
       "        332399,  334999,  513499,  379599,  639099,  612399,  507899,\n",
       "        340399,  529899,  490499,  347499,  390999,  340999,  341599,\n",
       "        453699,  454599,  357899,  342299,  351899,  470599,  404599,\n",
       "        360099,  409599,  365499,  369999,  386399,  710599,  381999,\n",
       "        361199,  830199,  375999,  358599,  316399,  385099,  384899,\n",
       "        394499,  447899,  454699,  417299,  418499,  353999,  414399,\n",
       "        365299,  484299,  368199,  421199,  366799,  441999,  480799,\n",
       "        329599,  429099,  498599,  402999,  376599,  363899,  423799,\n",
       "        425099,  401999,  384599,  443899,  443799,  400899,  433999,\n",
       "        324599,  456899,  369899,  514199,  338299,  391299,  352999,\n",
       "        390099,  484599,  407699,  434799,  397699,  383099,  437099,\n",
       "        470999,  401599,  362399,  483099,  495599,  444799,  402699,\n",
       "        439899,  429599,  403899,  403999,  371199,  364399,  407399,\n",
       "        457499,  333699,  425199,  406999,  471599,  429999,  476799,\n",
       "        432699,  423399,  423599,  417699,  458799,  443699,  283699,\n",
       "        469299,  447599,  338899,  412899,  489999,  295499,  462199,\n",
       "        344199,  303399,  459199,  344799,  330599,  355899,  303699,\n",
       "        301799,  282799,  306699,  247499,  293499,  295599,  324299,\n",
       "        299799,  315399,  297199,  294599,  294299,  299199,  342099,\n",
       "        308399,  308999,  318299,  366899,  382899,  405699,  303799,\n",
       "        410199,  620099,  281099,  392299,  409799,  409999,  388899,\n",
       "        250499,  422799,  773399,  473899,  427299,  802199,  523999,\n",
       "        541199,  619899,  312599,  629799,  626199,  424499,  878599,\n",
       "        412599,  186971,  528999,  258999,  188799,  415399,  313099,\n",
       "        258899,  171699,  551799,  201799,  572399,  126399,  537999,\n",
       "        288799,  193699,  266599,  729899,  523199,  461199,  439499,\n",
       "        581299,  482599,  657999,  337499,  369399,  597699,  384499,\n",
       "       1514699,  421499,  487499,  495499,  554599,  394199,  408399,\n",
       "        621899,  666999,  657599,  495399,  571699, 1682999,  794799,\n",
       "        783699,  554799,  243799, 1087899,  591399,  698199,  554499,\n",
       "       1276499,  614399,  344999,  483199,  803799,  582399,  620299,\n",
       "        834599,  538099,  802399,  655099,  681399,  747999, 2036199,\n",
       "        392799,  480499,  628299,  387299,  671099,  740599,  917099,\n",
       "        297399,  666499, 1704999,  530399,  335999,  528199,  538499,\n",
       "        377399,  243699,  396899,  610899,  833699,  380299,  622399,\n",
       "        610999,  430099,  395699,  351299,  340199,  711799,  435699,\n",
       "        550799,  946199,  588999, 1025999,  451699,  849299,  779999,\n",
       "        625399,  392699,  434899,  437599,  776799,  910599, 1555199,\n",
       "        439799,  690699,  590899,  283199,  318399,  477599,  361599,\n",
       "        370099, 1078099,  277699,  310299,  433799,  379699,  403399,\n",
       "        458699,  283299,  252299,  411299,  306799,  265099,  275199,\n",
       "        342999,  453099,  417799,  542599,  435399,  677399,  480299,\n",
       "        565999,  385699,  649999,  449999, 1064799,  855399,  304099,\n",
       "        400999,  798999,  583099, 1360099, 1412399,  566899, 1751899,\n",
       "        510799,  754499,  249699,  309699,  326699,  288699,  555099,\n",
       "        448799,  488099,  365199,  311999, 1256399,  494799,  455699,\n",
       "        613399,  644899,  513799,  524399,  398699, 1060599,  713899,\n",
       "        502699,  287399,  371599,  627199,  449299,  577637,  289099,\n",
       "        626299,  550999,  308499,  554099,  897199, 1909999, 1107899,\n",
       "        191399, 1090499, 1021799,  625999, 1488099,  336199,  704999,\n",
       "        425999,  610599,  155199,  578099,  412399,  551899,  456399,\n",
       "        560599,  413899,  721299,  743799,  451099,  602899,  461799,\n",
       "        333199,  897599,  475499,  183499,  141199,  215399,  337999,\n",
       "        268299,   27099,  237699,  282999,  249599,  260299,  322099,\n",
       "        260099,   30599,  455199,  504999,  678099], dtype=int64)"
      ]
     },
     "execution_count": 7,
     "metadata": {},
     "output_type": "execute_result"
    }
   ],
   "source": [
    "car['Price (in ₹)'].unique()"
   ]
  },
  {
   "cell_type": "code",
   "execution_count": 8,
   "id": "828024fe",
   "metadata": {},
   "outputs": [
    {
     "data": {
      "text/plain": [
       "array(['58,000 KM', '43861.0 KM', '17,000 KM', '10000 KM', '70000 KM',\n",
       "       '140,000 KM', '22464.0 KM', '84,000 KM', '93,000 KM', '149,000 KM',\n",
       "       '64000.0 KM', '31000.0 KM', '161000.0 KM', '118642.0 KM',\n",
       "       '95000.0 KM', '50000 KM', '20000 KM', '52,300 KM', '78,956 KM',\n",
       "       '59000.0 KM', '17000.0 KM', '59,000 KM', '0 KM', '14,800 KM',\n",
       "       '41545.0 KM', '18,000 KM', '115635.0 KM', '73000.0 KM',\n",
       "       '19018.0 KM', '63000.0 KM', '90000 KM', '120000 KM', '90,320 KM',\n",
       "       '125,250 KM', '75,000 KM', '4,000 KM', '1.0 KM', '67,000 KM',\n",
       "       '79300.0 KM', '83,000 KM', '42,000 KM', '115,625 KM', '120,000 KM',\n",
       "       '81,321 KM', '63,800 KM', '62000.0 KM', '170,000 KM', '85000.0 KM',\n",
       "       '80000.0 KM', '28000.0 KM', '98,000 KM', '72,000 KM', '80,000 KM',\n",
       "       '142,000 KM', '200,000 KM', '35,000 KM', '206167.0 KM',\n",
       "       '150000.0 KM', '6,000 KM', '160000 KM', '85249.0 KM',\n",
       "       '115000.0 KM', '55,000 KM', '85,000 KM', '68790.0 KM',\n",
       "       '35000.0 KM', '45000.0 KM', '95,000 KM', '18,250 KM', '60,000 KM',\n",
       "       '55000.0 KM', '145,000 KM', '135,000 KM', '185,000 KM',\n",
       "       '89000.0 KM', '88,800 KM', '5,000 KM', '4000.0 KM', '79800.0 KM',\n",
       "       '33,000 KM', '89,000 KM', '21000.0 KM', '97000.0 KM',\n",
       "       '117000.0 KM', '50000.0 KM', '148,000 KM', '68000.0 KM',\n",
       "       '125,000 KM', '97,000 KM', '100,000 KM', '110,000 KM',\n",
       "       '64153.0 KM', '42000.0 KM', '102,175 KM', '78000.0 KM',\n",
       "       '3500.0 KM', '113000.0 KM', '81379 KM', '51328 KM', '57713.0 KM',\n",
       "       '46300.0 KM', '14900.0 KM', '32000.0 KM', '112052.0 KM',\n",
       "       '34000.0 KM', '52000.0 KM', '132647 KM', '51,000 KM', '82,000 KM',\n",
       "       '46851.0 KM', '30301.0 KM', '61000.0 KM', '98567.0 KM',\n",
       "       '125293.0 KM', '84000.0 KM', '87,000 KM', '90,000 KM',\n",
       "       '10000.0 KM', '16000.0 KM', '1,22,416 km', '1,14,506 km',\n",
       "       '76,778 km', '53,442 km', '97,829 km', '1,10,592 km', '45,417 km',\n",
       "       '1,06,080 km', '76,264 km', '38,061 km', '41,586 km', '23,699 km',\n",
       "       '68,206 km', '22,456 km', '34,079 km', '86,636 km', '29,449 km',\n",
       "       '6,671 km', '82,367 km', '58,990 km', '1,18,117 km', '91,903 km',\n",
       "       '41,362 km', '51,040 km', '53,938 km', '53,260 km', '63,344 km',\n",
       "       '1,12,006 km', '83,414 km', '61,499 km', '1,67,528 km',\n",
       "       '16,729 km', '74,447 km', '44,122 km', '6,787 km', '1,06,657 km',\n",
       "       '82,519 km', '41,525 km', '24,746 km', '68,930 km', '89,196 km',\n",
       "       '8,087 km', '11,700 km', '79,744 km', '46,949 km', '69,373 km',\n",
       "       '1,26,169 km', '18,206 km', '74,644 km', '1,02,773 km',\n",
       "       '46,478 km', '91,610 km', '23,673 km', '27,853 km', '32,245 km',\n",
       "       '33,108 km', '1,37,452 km', '76,795 km', '11,390 km', '87,025 km',\n",
       "       '77,409 km', '1,26,803 km', '6,054 km', '16,502 km', '24,652 km',\n",
       "       '13,375 km', '1,07,030 km', '78,568 km', '66,341 km', '26,891 km',\n",
       "       '45,371 km', '1,07,206 km', '77,730 km', '24,487 km', '17,829 km',\n",
       "       '64,350 km', '11,964 km', '54,884 km', '64,370 km', '25,823 km',\n",
       "       '17,135 km', '93,890 km', '41,996 km', '1,45,373 km', '49,310 km',\n",
       "       '47,838 km', '44,688 km', '54,918 km', '23,479 km', '64,514 km',\n",
       "       '34,522 km', '68,404 km', '34,227 km', '54,628 km', '11,773 km',\n",
       "       '62,658 km', '56,221 km', '38,070 km', '78,595 km', '12,965 km',\n",
       "       '44,609 km', '54,041 km', '18,807 km', '49,216 km', '42,295 km',\n",
       "       '14,734 km', '18,875 km', '19,902 km', '48,036 km', '21,496 km',\n",
       "       '13,223 km', '43,382 km', '69,989 km', '11,064 km', '26,679 km',\n",
       "       '45,910 km', '63,147 km', '41,244 km', '4,465 km', '1,06,165 km',\n",
       "       '47,929 km', '25,638 km', '49,689 km', '29,520 km', '29,031 km',\n",
       "       '44,017 km', '8,841 km', '19,412 km', '49,881 km', '40,409 km',\n",
       "       '34,742 km', '50,355 km', '63,567 km', '42,628 km', '21,776 km',\n",
       "       '41,506 km', '27,919 km', '19,146 km', '56,892 km', '13,291 km',\n",
       "       '6,909 km', '10,049 km', '31,740 km', '38,015 km', '30,097 km',\n",
       "       '32,787 km', '59,918 km', '16,902 km', '34,349 km', '38,526 km',\n",
       "       '27,027 km', '5,490 km', '3,675 km', '17,840 km', '25,086 km',\n",
       "       '6,999 km', '31,557 km', '82,659 km', '37,814 km', '20,923 km',\n",
       "       '23,258 km', '79,174 km', '49,387 km', '6,872 km', '51,582 km',\n",
       "       '32,089 km', '22,212 km', '51,190 km', '28,379 km', '20,810 km',\n",
       "       '33,946 km', '48,690 km', '1,45,640 km', '37,277 km', '44,007 km',\n",
       "       '55,623 km', '26,951 km', '68,356 km', '33,167 km', '1,09,914 km',\n",
       "       '61,139 km', '75,454 km', '95,145 km', '1,19,227 km', '45,187 km',\n",
       "       '45,347 km', '1,13,701 km', '1,06,269 km', '27,052 km',\n",
       "       '51,739 km', '1,09,291 km', '44,119 km', '1,07,296 km',\n",
       "       '56,502 km', '17,139 km', '1,18,264 km', '82,987 km', '89,197 km',\n",
       "       '63,494 km', '49,812 km', '38,691 km', '67,720 km', '96,788 km',\n",
       "       '48,162 km', '37,322 km', '34,842 km', '40,513 km', '97,613 km',\n",
       "       '35,231 km', '60,642 km', '42,384 km', '41,629 km', '43,635 km',\n",
       "       '9,838 km', '31,813 km', '1,93,599 km', '23,327 km', '34,818 km',\n",
       "       '21,214 km', '5,822 km', '27,905 km', '23,758 km', '29,749 km',\n",
       "       '79,527 km', '14,692 km', '38,718 km', '3,719 km', '58,529 km',\n",
       "       '99,791 km', '89,521 km', '17,052 km', '41,094 km', '10,847 km',\n",
       "       '7,950 km', '11,476 km', '5,332 km', '53,083 km', '58,549 km',\n",
       "       '82,601 km', '1,026 km', '6,895 km', '20,410 km', '19,965 km',\n",
       "       '1,12,865 km', '32,535 km', '52,134 km', '63,251 km', '20,976 km',\n",
       "       '24,191 km', '3,229 km', '23,089 km', '25,903 km', '3,094 km',\n",
       "       '12,445 km', '11,654 km', '18,060 km', '66,132 km', '57,465 km',\n",
       "       '49,248 km', '43,949 km', '43,104 km', '54,233 km', '1,13,857 km',\n",
       "       '22,432 km', '42,575 km', '51,727 km', '37,606 km', '61,140 km',\n",
       "       '55,275 km', '40,899 km', '50,787 km', '24,778 km', '25,835 km',\n",
       "       '56,758 km', '43,938 km', '40,392 km', '62,623 km', '40,788 km',\n",
       "       '25,232 km', '73,246 km', '22,389 km', '40,386 km', '34,860 km',\n",
       "       '1,23,906 km', '53,457 km', '32,662 km', '90,313 km', '46,481 km',\n",
       "       '25,227 km', '3,514 km', '26,412 km', '43,597 km', '1,08,136 km',\n",
       "       '46,758 km', '64,888 km', '63,396 km', '20,024 km', '70,124 km',\n",
       "       '38,356 km', '81,282 km', '1,11,192 km', '17,576 km', '30,741 km',\n",
       "       '33,715 km', '44,564 km', '28,704 km', '8,579 km', '7,273 km',\n",
       "       '16,372 km', '25,771 km', '41,389 km', '9,355 km', '55,542 km',\n",
       "       '19,497 km', '58,273 km', '50,873 km', '16,930 km', '25,373 km',\n",
       "       '15,405 km', '87,376 km', '70,153 km', '51,852 km', '47,074 km',\n",
       "       '61,043 km', '1,32,471 km', '28,190 km', '1,179 km', '2,685 km',\n",
       "       '74,661 km', '62,491 km', '68,693 km', '16,683 km', '22,626 km',\n",
       "       '3,983 km', '5,925 km', '46,246 km', '38,369 km', '7,052 km',\n",
       "       '40,820 km', '39,344 km', '19,933 km', '8,783 km', '27,194 km',\n",
       "       '20,099 km', '46,959 km', '16,864 km', '49,965 km', '83,626 km',\n",
       "       '79,805 km', '82,702 km', '14,976 km', '47,417 km', '34,459 km',\n",
       "       '23,537 km', '12,867 km', '58,943 km', '27,816 km', '40,437 km',\n",
       "       '21,567 km', '1,03,033 km', '79,048 km', '13,373 km', '27,428 km',\n",
       "       '63,747 km', '54,447 km', '79,494 km', '43,183 km', '67,097 km',\n",
       "       '66,535 km', '41,927 km', '58,152 km', '96,978 km', '49,032 km',\n",
       "       '40,547 km', '93,340 km', '6,573 km', '79,144 km', '19,065 km',\n",
       "       '67,670 km', '37,328 km', '82,096 km', '53,256 km', '45,202 km',\n",
       "       '1,26,101 km', '66,027 km', '1,26,822 km', '45,547 km',\n",
       "       '41,361 km', '55,000 km', '37,925 km', '43,730 km', '33,958 km',\n",
       "       '60,395 km', '1,14,885 km', '65,067 km', '51,434 km', '1,441 km',\n",
       "       '50,742 km', '58,368 km', '70,895 km', '43,484 km', '59,837 km',\n",
       "       '47,517 km', '1,17,629 km', '13,976 km', '40,927 km', '15,302 km',\n",
       "       '35,591 km', '4,170 km', '3,430 km', '1,99,598 km', '1,68,380 km',\n",
       "       '1,93,704 km', '53,957 km', '78,878 km', '94,544 km', '70,006 km',\n",
       "       '55,835 km', '20,977 km', '69,140 km', '69,970 km', '1,21,060 km',\n",
       "       '19,885 km', '81,260 km', '1,75,240 km', '95,369 km', '24,768 km',\n",
       "       '58,809 km', '13,720 km', '58,003 km', '66,779 km', '1,27,254 km',\n",
       "       '67,725 km', '1,02,117 km', '41,533 km', '1,17,683 km',\n",
       "       '69,958 km', '41,294 km', '82,377 km', '14,031 km', '1,09,366 km',\n",
       "       '37,833 km', '66,762 km', '67,332 km', '71,530 km', '1,69,197 km',\n",
       "       '43,986 km', '31,118 km', '23,321 km', '11,966 km', '3,210 km',\n",
       "       '7,284 km', '57,606 km', '63,363 km', '44,604 km', '1,23,799 km',\n",
       "       '74,189 km', '3,907 km', '1,17,460 km', '82,529 km', '1,59,012 km',\n",
       "       '1,54,297 km', '76,953 km', '50,683 km', '92,357 km', '62,366 km',\n",
       "       '32,515 km', '40,102 km', '29,735 km', '74,782 km', '1,01,529 km',\n",
       "       '4,768 km', '39,845 km', '96,542 km', '69,995 km', '62,300 km',\n",
       "       '1,12,745 km', '54,460 km', '59,773 km', '30,116 km',\n",
       "       '1,13,158 km', '92,569 km', '55,587 km', '1,41,314 km',\n",
       "       '31,505 km', '1,46,017 km', '26,693 km', '73,453 km', '93,199 km',\n",
       "       '19,791 km', '34,879 km', '65,443 km', '72,572 km', '1,12,190 km',\n",
       "       '33,562 km', '80,946 km', '39,099 km', '66,396 km', '35,406 km',\n",
       "       '31,148 km', '7,789 km', '50,477 km', '17,318 km', '12,711 km',\n",
       "       '57,927 km', '34,212 km', '27,829 km', '31,724 km', '77,530 km',\n",
       "       '16,090 km', '34,295 km', '17,504 km', '58,341 km', '22,197 km',\n",
       "       '60,954 km', '37,026 km', '11,166 km', '1,19,067 km', '61,758 km',\n",
       "       '31,450 km', '21,556 km', '35,869 km', '22,066 km', '52,521 km',\n",
       "       '35,747 km', '38,471 km', '46,082 km', '88,979 km', '10,063 km',\n",
       "       '90,171 km', '22,443 km', '24,772 km', '80,744 km', '14,259 km',\n",
       "       '16,826 km', '1,58,642 km', '53,253 km', '8,641 km', '10,322 km',\n",
       "       '76,170 km', '1,06,795 km', '83,787 km', '53,593 km',\n",
       "       '1,18,729 km', '54,715 km', '50,361 km', '83,300 km', '41,139 km',\n",
       "       '44,162 km', '21,150 km', '6,100 km', '29,854 km', '6,637 km',\n",
       "       '71,192 km', '20,990 km', '28,309 km', '1,12,703 km', '62,283 km',\n",
       "       '20,713 km', '58,123 km', '15,934 km', '24,435 km', '14,623 km',\n",
       "       '36,807 km', '26,505 km', '54,687 km', '49,708 km', '75,243 km',\n",
       "       '52,300 km', '87,119 km', '1,20,326 km', '78,932 km', '33,968 km',\n",
       "       '12,322 km', '41,963 km', '22,673 km', '56,076 km', '27,892 km',\n",
       "       '25,398 km', '27,455 km', '18,028 km', '13,299 km', '37,696 km',\n",
       "       '73,614 km', '17,515 km', '31,245 km', '84,917 km', '56,467 km',\n",
       "       '10,316 km', '15,604 km', '27,589 km', '88,835 km', '76,013 km',\n",
       "       '18,277 km', '1,07,330 km', '75,073 km', '68,276 km', '7,391 km',\n",
       "       '41,248 km', '68,025 km', '49,944 km', '3,867 km', '37,840 km',\n",
       "       '46,220 km', '64,361 km', '1,20,060 km', '41,661 km', '32,686 km',\n",
       "       '24,756 km', '13,458 km', '30,252 km', '5,027 km', '1,22,972 km',\n",
       "       '50,862 km', '5,388 km', '7,610 km', '87,567 km', '16,787 km',\n",
       "       '20,322 km', '70,981 km', '13,358 km', '60,546 km', '14,237 km',\n",
       "       '23,580 km', '57,022 km', '1,12,335 km', '30,696 km', '17,465 km',\n",
       "       '68,749 km', '96,428 km', '78,000 Km', '70000 Km', '1000.0 Km',\n",
       "       '66,000 Km', '130000.0 Km', '8,748 Km', '55,520 Km', '0 Km',\n",
       "       '85000.0 Km', '82,000 Km', '61000.0 Km', '400,000 Km', '58,000 Km',\n",
       "       '98,000 Km', '50 Km', '90,000 Km', '60,000 Km', '110,000 Km',\n",
       "       '50000 Km', '180,000 Km', '56000.0 Km', '90000 Km', '46,000 Km',\n",
       "       '104500.0 Km', '62000.0 Km', '75000.0 Km', '10100.0 Km',\n",
       "       '10,000 Km', '521 Km', '110000.0 Km', '59861.0 Km', '200000 Km',\n",
       "       '53,000 Km', '500,000 Km', '111,000 Km', '5,500 Km', '61231.0 Km'],\n",
       "      dtype=object)"
      ]
     },
     "execution_count": 8,
     "metadata": {},
     "output_type": "execute_result"
    }
   ],
   "source": [
    "car['Driven Kilometers'].unique()"
   ]
  },
  {
   "cell_type": "code",
   "execution_count": 9,
   "id": "d0c6117c",
   "metadata": {},
   "outputs": [
    {
     "data": {
      "text/plain": [
       "array(['Mahindra Xuv500 (2013)', 'Hyundai Creta (2020)',\n",
       "       'Hyundai Verna (2019)', 'Datsun Redigo (2020)',\n",
       "       'Hyundai I10 (2011)', 'Toyota Innova (2011)',\n",
       "       'Maruti Suzuki Wagon R (2017)', 'Maruti Suzuki Swift (2016)',\n",
       "       'Maruti Suzuki Swift (2013)', 'Chevrolet Tavera Neo (2015)',\n",
       "       'Bmw 5 Series (2012)', 'Nissan Micra (2016)',\n",
       "       'Maruti Suzuki Swift Dzire (2013)', 'Tata Safari Storme (2015)',\n",
       "       'Tata Safari Storme (2014)', 'Hyundai I10 (2010)',\n",
       "       'Maruti Suzuki Alto 800 (2012)', 'Mercedes-Benz S-Class (2004)',\n",
       "       'Maruti Suzuki Swift Dzire (2014)', 'Ssangyong Rexton (2013)',\n",
       "       'Honda Amaze (2015)', 'Tata Nexon (2019)', 'Tata Indica (2000)',\n",
       "       'Maruti Suzuki Alto 800 (2017)', 'Hyundai Creta (2017)',\n",
       "       'Mahindra Scorpio (2020)', 'Maruti Suzuki Baleno (2020)',\n",
       "       'Hyundai Santro (2001)', 'Hyundai Santa Fe (2012)',\n",
       "       'Fiat Avventura (2015)', 'Maruti Suzuki Alto 800 (2015)',\n",
       "       'Renault Kwid (2016)', 'Maruti Suzuki Wagon R (2018)',\n",
       "       'Maruti Suzuki Wagon R Duo (2011)', 'Tata Indica (2008)',\n",
       "       'Maruti Suzuki 800 (2007)', 'Hyundai Aura (2021)',\n",
       "       'Mahindra Thar (2021)', 'Tata Safari Storme (2016)',\n",
       "       'Maruti Suzuki Swift Dzire (2012)', 'Hyundai I20 (2013)',\n",
       "       'Hyundai Santro Xing (2011)', 'Maruti Suzuki Swift (2014)',\n",
       "       'Mahindra Bolero (2006)', 'Nissan Micra (2014)',\n",
       "       'Ford Ecosport (2016)', 'Toyota Etios (2012)',\n",
       "       'Mahindra Xuv500 (2017)', 'Mg Hector (2019)', 'Hyundai I20 (2009)',\n",
       "       'Tata Zest (2014)', 'Toyota Fortuner (2017)',\n",
       "       'Maruti Suzuki Alto (2012)', 'Maruti Suzuki Wagon R (2016)',\n",
       "       'Hyundai Xcent (2015)', 'Mahindra Scorpio (2016)',\n",
       "       'Isuzu Mu7 (2014)', 'Toyota Fortuner (2012)',\n",
       "       'Hyundai Santro (2019)', 'Mahindra Bolero Pik-Up (2016)',\n",
       "       'Bmw 3 Series (2011)', 'Mercedes-Benz M-Class (2015)',\n",
       "       'Hyundai I10 (2009)', 'Chevrolet Optra Magnum (2009)',\n",
       "       'Maruti Suzuki 800 (2004)', 'Mercedes-Benz E-Class (2012)',\n",
       "       'Toyota Corolla Altis (2014)', 'Skoda Superb (2019)',\n",
       "       'Maruti Suzuki Eeco (2019)', 'Maruti Suzuki Wagon R 1.0 (2017)',\n",
       "       'Maruti Suzuki Zen (2006)', 'Maruti Suzuki Estilo (2010)',\n",
       "       'Maruti Suzuki Wagon R Duo (2018)', 'Maruti Suzuki Swift (2010)',\n",
       "       'Maruti Suzuki 800 (1998)', 'Volkswagen Vento (2012)',\n",
       "       'Tata Bolt (2015)', 'Nissan Sunny (2012)', 'Ford Fiesta (2013)',\n",
       "       'Maruti Suzuki Swift (2009)', 'Toyota Innova (2007)',\n",
       "       'Audi A6 (2014)', 'Honda Amaze (2013)',\n",
       "       'Maruti Suzuki Others (2021)', 'Audi A6 (2015)',\n",
       "       'Hyundai I20 (2017)', 'Audi Q3 (2016)', 'Volvo Xc60 (2017)',\n",
       "       'Honda Jazz (2015)', 'Ford Ecosport (2017)',\n",
       "       'Volkswagen Polo (2011)', 'Mahindra Bolero Pik-Up (2012)',\n",
       "       'Tata Tiago (2018)', 'Ford Fiesta (2010)', 'Tata Others (2012)',\n",
       "       'Mahindra Xylo (2012)', 'Maruti Suzuki Swift (2015)',\n",
       "       'Hyundai Accent (2005)', 'Maruti Suzuki Zen (2004)',\n",
       "       'Mahindra Xuv500 (2015)', 'Mahindra Xuv500 (2018)',\n",
       "       'Maruti Suzuki Wagon R (2013)', 'Bmw X5 M (2016)',\n",
       "       'Maruti Suzuki Alto (2008)', 'Skoda Superb (2014)',\n",
       "       'Honda City (2021)', 'Volkswagen Polo (2016)',\n",
       "       'Toyota Fortuner (2010)', 'Audi Q2 (2021)',\n",
       "       'Maruti Suzuki Ritz (2013)', 'Renault Duster (2016)',\n",
       "       'Ford Ecosport (2015)', 'Land Rover Range Rover Evoque (2012)',\n",
       "       'Mahindra Bolero Power Plus (2019)', 'Hyundai Creta (2016)',\n",
       "       'Maruti Suzuki Swift Dzire (2009)',\n",
       "       'Maruti Suzuki Wagon R 1.0 (2016)',\n",
       "       'Maruti Suzuki Swift Dzire (2011)', 'Chevrolet Spark (2011)',\n",
       "       'Mahindra Xylo (2019)', 'Maruti Suzuki Wagon R (2015)',\n",
       "       'Audi Q7 (2012)', 'Audi Q7 (2013)', 'Audi A6 (2011)',\n",
       "       'Audi A6 (2010)', 'Maruti Suzuki Swift (2006)',\n",
       "       'Hyundai Verna (2012)', 'Maruti Suzuki Sx4 (2013)',\n",
       "       'Bmw 5 Series (2010)', 'Ford Mustang (2018)',\n",
       "       'Ford Mustang (2017)', '2013 Maruti Swift',\n",
       "       '2015 Maruti Swift Dzire', '2013 Toyota Etios Liva',\n",
       "       '2012 Maruti Swift Dzire', '2016 Maruti Swift',\n",
       "       '2015 Maruti Swift', '2012 Maruti Swift',\n",
       "       '2016 Maruti Wagon R 1.0', '2015 Maruti Wagon R 1.0',\n",
       "       '2019 Maruti Baleno', '2015 Hyundai Grand i10',\n",
       "       '2014 Maruti Swift', '2013 Hyundai i20', '2014 Maruti Swift Dzire',\n",
       "       '2013 Maruti Swift Dzire', '2018 Hyundai Grand i10',\n",
       "       '2020 Renault Kwid', '2019 Maruti Celerio',\n",
       "       '2018 Maruti Wagon R 1.0', '2013 Hyundai i10', '2019 Renault Kwid',\n",
       "       '2017 Hyundai Grand i10', '2017 Maruti Wagon R 1.0',\n",
       "       '2017 Hyundai Eon', '2017 Maruti Alto 800', '2014 Maruti Ritz',\n",
       "       '2016 Hyundai Grand i10', '2015 Hyundai Eon',\n",
       "       '2018 Maruti Alto 800', '2014 Honda Brio', '2016 Maruti Alto K10',\n",
       "       '2016 Maruti Alto 800', '2012 Maruti Alto K10',\n",
       "       '2015 Maruti Alto K10', '2017 Maruti Alto K10',\n",
       "       '2020 Hyundai Creta', '2019 Maruti Alto K10',\n",
       "       '2014 Maruti Wagon R 1.0', '2017 Maruti Dzire',\n",
       "       '2014 Maruti Alto 800', '2018 Maruti Alto K10',\n",
       "       '2011 Maruti Alto K10', '2017 Ford Ecosport', '2013 Hyundai Verna',\n",
       "       '2014 Honda City', '2017 Maruti Baleno', '2017 Renault Kwid',\n",
       "       '2018 Maruti Swift', '2020 Maruti Swift', '2015 Honda Amaze',\n",
       "       '2018 Ford Ecosport', '2014 Hyundai i20',\n",
       "       '2009 Toyota Corolla Altis', '2013 Toyota Corolla Altis',\n",
       "       '2011 Hyundai i20', '2011 Hyundai i10', '2012 Ford Fiesta',\n",
       "       '2018 Renault Kwid', '2009 Maruti A Star', '2016 Nissan Terrano',\n",
       "       '2013 Ford Figo', '2017 Mahindra Bolero', '2009 Maruti Alto',\n",
       "       '2014 Ssangyong Rexton', '2014 Mahindra Scorpio',\n",
       "       '2010 Honda City', '2013 Hyundai Eon', '2010 Maruti Ritz',\n",
       "       '2018 Mahindra Bolero', '2013 Honda City', '2017 Maruti Ertiga',\n",
       "       '2013 Honda Amaze', '2016 Maruti Ciaz', '2016 Tata Tiago',\n",
       "       '2017 Maruti IGNIS', '2015 Audi Q3', '2013 Renault Duster',\n",
       "       '2016 Maruti Baleno', '2016 Ford Ecosport', '2014 Ford Ecosport',\n",
       "       '2017 Maruti Vitara Brezza', '2017 Maruti Ciaz',\n",
       "       '2014 Hyundai Xcent', '2016 Maruti Vitara Brezza',\n",
       "       '2015 Ford Ecosport', '2018 Maruti Dzire',\n",
       "       '2019 Toyota Innova Crysta', '2017 Mahindra XUV500',\n",
       "       '2017 Hyundai Verna', '2020 KIA SELTOS', '2018 Honda Amaze',\n",
       "       '2018 Hyundai Elite i20', '2018 Tata Tiago', '2016 Skoda Superb',\n",
       "       '2019 Maruti Swift', '2016 Hyundai Elite i20',\n",
       "       '2015 Hyundai Creta', '2018 Maruti Baleno', '2019 Maruti Ertiga',\n",
       "       '2019 Tata Tiago', '2018 Maruti Vitara Brezza',\n",
       "       '2021 HYUNDAI NEW I20', '2017 Skoda Superb', '2012 Hyundai Verna',\n",
       "       '2018 Mahindra Thar', '2021 Hyundai VENUE', '2019 Maruti Alto',\n",
       "       '2018 Tata NEXON', '2020 MG HECTOR', '2019 Maruti New Wagon-R',\n",
       "       '2020 Maruti Alto', '2014 Maruti Ertiga', '2016 Renault Kwid',\n",
       "       '2015 Maruti Ertiga', '2016 Hyundai Creta', '2013 Ford Ecosport',\n",
       "       '2014 Renault Duster', '2015 Hyundai i10', '2012 Toyota Etios',\n",
       "       '2018 Maruti S Cross', '2014 Hyundai Grand i10',\n",
       "       '2019 Hyundai VENUE', '2015 Toyota Etios', '2014 Maruti Ciaz',\n",
       "       '2019 Ford Ecosport', '2019 Maruti Vitara Brezza',\n",
       "       '2015 Toyota Fortuner', '2017 Maruti Swift', '2020 Maruti Baleno',\n",
       "       '2020 Maruti Vitara Brezza', '2017 Maruti Celerio',\n",
       "       '2015 Maruti Alto 800', '2019 Maruti Eeco', '2013 Maruti Alto K10',\n",
       "       '2014 Volkswagen Vento', '2014 Honda Mobilio', '2017 Toyota Etios',\n",
       "       '2013 Toyota Etios', '2021 Maruti XL6',\n",
       "       '2016 Toyota Corolla Altis', '2017 Honda WR-V',\n",
       "       '2019 Hyundai Creta', '2018 Maruti IGNIS', '2019 Honda Civic',\n",
       "       '2016 Honda Jazz', '2014 Hyundai Eon', '2012 Honda Brio',\n",
       "       '2019 Maruti Alto 800', '2019 MG HECTOR',\n",
       "       '2019 Hyundai GRAND I10 NIOS', '2018 Maruti Celerio',\n",
       "       '2015 Maruti Celerio', '2014 Toyota Corolla Altis',\n",
       "       '2016 Maruti Swift Dzire', '2013 Toyota Innova',\n",
       "       '2016 Renault Duster', '2020 Mahindra XUV 3OO',\n",
       "       '2017 Mahindra TUV300', '2014 Toyota Innova',\n",
       "       '2012 Volkswagen Polo', '2014 Audi Q3', '2015 Hyundai Xcent',\n",
       "       '2012 Volvo S60', '2013 Maruti Ritz', '2018 Honda City',\n",
       "       '2015 BMW 3 Series', '2015 Mahindra XUV500', '2020 Hyundai AURA',\n",
       "       '2018 Hyundai Tucson New', '2017 Tata TIGOR',\n",
       "       '2018 Ford FREESTYLE', '2018 Hyundai Creta', '2017 BMW X1',\n",
       "       '2016 Maruti S Cross', '2020 Toyota YARIS', '2020 Maruti S PRESSO',\n",
       "       '2017 Ford New Figo', '2015 Honda City', '2015 Maruti S Cross',\n",
       "       '2015 Hyundai Elite i20', '2017 Datsun Redi Go',\n",
       "       '2017 Hyundai Creta', '2014 Toyota Fortuner', '2020 Toyota Glanza',\n",
       "       '2013 Mercedes Benz E Class', '2014 Hyundai Elite i20',\n",
       "       '2017 Tata Tiago', '2013 Hyundai Grand i10',\n",
       "       '2020 Hyundai GRAND I10 NIOS', '2020 Ford New Figo',\n",
       "       '2013 Toyota Fortuner', '2017 Toyota Fortuner',\n",
       "       '2017 Hyundai Elite i20', '2021 Toyota Glanza',\n",
       "       '2018 Ford Figo Aspire', '2017 Maruti S Cross',\n",
       "       '2015 Hyundai Verna', '2013 Maruti Ertiga', '2012 Toyota Fortuner',\n",
       "       '2015 Maruti Baleno', '2017 Ford Figo Aspire', '2015 Honda Jazz',\n",
       "       '2015 Maruti Ciaz', '2019 Hyundai Elite i20',\n",
       "       '2019 Ford Figo Aspire', '2015 BMW 5 Series', '2020 Honda City',\n",
       "       '2018 Toyota Corolla Altis', '2012 Toyota Etios Liva',\n",
       "       '2020 Mahindra XUV500', '2013 Maruti Wagon R 1.0',\n",
       "       'maruti suzuki ertiga (2012)', 'maruti suzuki ertiga (2014)',\n",
       "       'hyundai grand i10 nios (2021)', 'maruti suzuki alto k10 (2014)',\n",
       "       'mercedes benz c-class (2010)', 'maruti suzuki zen estilo (2009)',\n",
       "       'maruti suzuki alto k10 (2010)', 'other brands others (1984)',\n",
       "       'maruti suzuki 800 (2005)', 'hyundai accent (2008)',\n",
       "       'tata safari storme (2013)', 'hyundai i20 (2010)',\n",
       "       'honda others (2017)', 'maruti suzuki swift dzire (2019)',\n",
       "       'mahindra scorpio (2011)', 'maruti suzuki swift (2012)',\n",
       "       'maruti suzuki esteem (2005)', 'ford figo (2011)',\n",
       "       'hyundai santro xing (2007)', 'tata nano (2011)',\n",
       "       'toyota innova (2010)', 'honda mobilio (2015)',\n",
       "       'maruti suzuki ciaz (2017)', 'maruti suzuki celerio (2015)',\n",
       "       'mahindra scorpio (2007)', 'land rover range rover evoque (2012)',\n",
       "       'mahindra scorpio (2014)', 'other brands others (2017)',\n",
       "       'maruti suzuki swift (2021)', 'tata others (2021)',\n",
       "       'honda amaze (2016)', 'skoda rapid (2016)', 'nissan micra (2011)',\n",
       "       'chevrolet tavera (2005)', 'tata others (2012)',\n",
       "       'honda city (2009)', 'maruti suzuki 800 (1970)',\n",
       "       'renault duster (2012)', 'hyundai santro (2021)',\n",
       "       'hyundai verna (2013)'], dtype=object)"
      ]
     },
     "execution_count": 9,
     "metadata": {},
     "output_type": "execute_result"
    }
   ],
   "source": [
    "car['Brand & Model'].unique()"
   ]
  },
  {
   "cell_type": "code",
   "execution_count": 10,
   "id": "19fe8409",
   "metadata": {},
   "outputs": [
    {
     "data": {
      "text/plain": [
       "array(['DIESEL', 'PETROL', 'CNG', 'LPG', 'CNG & HYBRIDS', 'Diesel',\n",
       "       'Petrol', 'Petrol + CNG', 'CNG & Hybrids'], dtype=object)"
      ]
     },
     "execution_count": 10,
     "metadata": {},
     "output_type": "execute_result"
    }
   ],
   "source": [
    "car['Fuel Type'].unique()"
   ]
  },
  {
   "cell_type": "markdown",
   "id": "b50a9f22",
   "metadata": {},
   "source": [
    "## Data Cleaning\n",
    "9 columns\n",
    "- 'Brand & Model' : It gives us the brand of the car alongwith its model name and manufacturing year\n",
    "- 'Varient' : It gives us the varient of particular car model\n",
    "- 'Fuel Type' : It gives us the type of fuel used by the car\n",
    "- 'Driven Kilometers' : It gives us the total distance in kms covered by car\n",
    "- 'Transmission' : It tells us whether the gear transmission is Manual or Automatic\n",
    "- 'Owner' : It tells us the total numbers of owners car had previously\n",
    "- 'Location' : It gives us the locaion of the car\n",
    "- 'Date of Posting Ad' : It teels us when the advertisement for selling that car was posted online\n",
    "- 'Price (in ₹)' : It gives us the price of the car."
   ]
  },
  {
   "cell_type": "code",
   "execution_count": 12,
   "id": "a6c6976f",
   "metadata": {},
   "outputs": [],
   "source": [
    "backup=car.copy()"
   ]
  },
  {
   "cell_type": "code",
   "execution_count": 11,
   "id": "ec8bf09a",
   "metadata": {},
   "outputs": [
    {
     "data": {
      "text/plain": [
       "<AxesSubplot:>"
      ]
     },
     "execution_count": 11,
     "metadata": {},
     "output_type": "execute_result"
    },
    {
     "data": {
      "image/png": "[encoded data removed]",
      "text/plain": [
       "<Figure size 432x288 with 2 Axes>"
      ]
     },
     "metadata": {
      "needs_background": "light"
     },
     "output_type": "display_data"
    }
   ],
   "source": [
    "sn.heatmap(car.isnull())"
   ]
  },
  {
   "cell_type": "code",
   "execution_count": 12,
   "id": "27c3d265",
   "metadata": {},
   "outputs": [],
   "source": [
    "from sklearn.impute import SimpleImputer\n",
    "imp=SimpleImputer(missing_values=np.nan,strategy='most_frequent')\n",
    "car['Varient']=imp.fit_transform(car['Varient'].values.reshape(-1,1))"
   ]
  },
  {
   "cell_type": "code",
   "execution_count": 13,
   "id": "0bd4a0d8",
   "metadata": {},
   "outputs": [
    {
     "data": {
      "text/html": [
       "<div>\n",
       "<style scoped>\n",
       "    .dataframe tbody tr th:only-of-type {\n",
       "        vertical-align: middle;\n",
       "    }\n",
       "\n",
       "    .dataframe tbody tr th {\n",
       "        vertical-align: top;\n",
       "    }\n",
       "\n",
       "    .dataframe thead th {\n",
       "        text-align: right;\n",
       "    }\n",
       "</style>\n",
       "<table border=\"1\" class=\"dataframe\">\n",
       "  <thead>\n",
       "    <tr style=\"text-align: right;\">\n",
       "      <th></th>\n",
       "      <th>Brand &amp; Model</th>\n",
       "      <th>Varient</th>\n",
       "      <th>Fuel Type</th>\n",
       "      <th>Driven Kilometers</th>\n",
       "      <th>Transmission</th>\n",
       "      <th>Owner</th>\n",
       "      <th>Location</th>\n",
       "      <th>Date of Posting Ad</th>\n",
       "      <th>Price (in ₹)</th>\n",
       "    </tr>\n",
       "  </thead>\n",
       "  <tbody>\n",
       "    <tr>\n",
       "      <th>0</th>\n",
       "      <td>266</td>\n",
       "      <td>143</td>\n",
       "      <td>3</td>\n",
       "      <td>543</td>\n",
       "      <td>10</td>\n",
       "      <td>1</td>\n",
       "      <td>123</td>\n",
       "      <td>31</td>\n",
       "      <td>435000</td>\n",
       "    </tr>\n",
       "    <tr>\n",
       "      <th>1</th>\n",
       "      <td>243</td>\n",
       "      <td>22</td>\n",
       "      <td>3</td>\n",
       "      <td>419</td>\n",
       "      <td>10</td>\n",
       "      <td>1</td>\n",
       "      <td>2</td>\n",
       "      <td>28</td>\n",
       "      <td>1165101</td>\n",
       "    </tr>\n",
       "    <tr>\n",
       "      <th>2</th>\n",
       "      <td>255</td>\n",
       "      <td>130</td>\n",
       "      <td>6</td>\n",
       "      <td>159</td>\n",
       "      <td>10</td>\n",
       "      <td>2</td>\n",
       "      <td>33</td>\n",
       "      <td>30</td>\n",
       "      <td>815000</td>\n",
       "    </tr>\n",
       "    <tr>\n",
       "      <th>3</th>\n",
       "      <td>226</td>\n",
       "      <td>79</td>\n",
       "      <td>6</td>\n",
       "      <td>80</td>\n",
       "      <td>10</td>\n",
       "      <td>1</td>\n",
       "      <td>115</td>\n",
       "      <td>20</td>\n",
       "      <td>270000</td>\n",
       "    </tr>\n",
       "    <tr>\n",
       "      <th>4</th>\n",
       "      <td>246</td>\n",
       "      <td>121</td>\n",
       "      <td>6</td>\n",
       "      <td>656</td>\n",
       "      <td>10</td>\n",
       "      <td>1</td>\n",
       "      <td>42</td>\n",
       "      <td>20</td>\n",
       "      <td>185000</td>\n",
       "    </tr>\n",
       "    <tr>\n",
       "      <th>...</th>\n",
       "      <td>...</td>\n",
       "      <td>...</td>\n",
       "      <td>...</td>\n",
       "      <td>...</td>\n",
       "      <td>...</td>\n",
       "      <td>...</td>\n",
       "      <td>...</td>\n",
       "      <td>...</td>\n",
       "      <td>...</td>\n",
       "    </tr>\n",
       "    <tr>\n",
       "      <th>5045</th>\n",
       "      <td>358</td>\n",
       "      <td>87</td>\n",
       "      <td>5</td>\n",
       "      <td>484</td>\n",
       "      <td>6</td>\n",
       "      <td>1</td>\n",
       "      <td>6</td>\n",
       "      <td>28</td>\n",
       "      <td>50000</td>\n",
       "    </tr>\n",
       "    <tr>\n",
       "      <th>5046</th>\n",
       "      <td>375</td>\n",
       "      <td>56</td>\n",
       "      <td>4</td>\n",
       "      <td>97</td>\n",
       "      <td>12</td>\n",
       "      <td>1</td>\n",
       "      <td>81</td>\n",
       "      <td>28</td>\n",
       "      <td>320000</td>\n",
       "    </tr>\n",
       "    <tr>\n",
       "      <th>5047</th>\n",
       "      <td>351</td>\n",
       "      <td>122</td>\n",
       "      <td>7</td>\n",
       "      <td>472</td>\n",
       "      <td>6</td>\n",
       "      <td>1</td>\n",
       "      <td>126</td>\n",
       "      <td>28</td>\n",
       "      <td>599000</td>\n",
       "    </tr>\n",
       "    <tr>\n",
       "      <th>5048</th>\n",
       "      <td>353</td>\n",
       "      <td>131</td>\n",
       "      <td>7</td>\n",
       "      <td>586</td>\n",
       "      <td>12</td>\n",
       "      <td>1</td>\n",
       "      <td>87</td>\n",
       "      <td>31</td>\n",
       "      <td>395000</td>\n",
       "    </tr>\n",
       "    <tr>\n",
       "      <th>5049</th>\n",
       "      <td>369</td>\n",
       "      <td>133</td>\n",
       "      <td>4</td>\n",
       "      <td>544</td>\n",
       "      <td>12</td>\n",
       "      <td>1</td>\n",
       "      <td>78</td>\n",
       "      <td>28</td>\n",
       "      <td>580000</td>\n",
       "    </tr>\n",
       "  </tbody>\n",
       "</table>\n",
       "<p>5050 rows × 9 columns</p>\n",
       "</div>"
      ],
      "text/plain": [
       "      Brand & Model  Varient  Fuel Type  Driven Kilometers  Transmission  \\\n",
       "0               266      143          3                543            10   \n",
       "1               243       22          3                419            10   \n",
       "2               255      130          6                159            10   \n",
       "3               226       79          6                 80            10   \n",
       "4               246      121          6                656            10   \n",
       "...             ...      ...        ...                ...           ...   \n",
       "5045            358       87          5                484             6   \n",
       "5046            375       56          4                 97            12   \n",
       "5047            351      122          7                472             6   \n",
       "5048            353      131          7                586            12   \n",
       "5049            369      133          4                544            12   \n",
       "\n",
       "      Owner  Location  Date of Posting Ad  Price (in ₹)  \n",
       "0         1       123                  31        435000  \n",
       "1         1         2                  28       1165101  \n",
       "2         2        33                  30        815000  \n",
       "3         1       115                  20        270000  \n",
       "4         1        42                  20        185000  \n",
       "...     ...       ...                 ...           ...  \n",
       "5045      1         6                  28         50000  \n",
       "5046      1        81                  28        320000  \n",
       "5047      1       126                  28        599000  \n",
       "5048      1        87                  31        395000  \n",
       "5049      1        78                  28        580000  \n",
       "\n",
       "[5050 rows x 9 columns]"
      ]
     },
     "execution_count": 13,
     "metadata": {},
     "output_type": "execute_result"
    }
   ],
   "source": [
    "le = LabelEncoder()\n",
    "for column in car.drop(['Price (in ₹)'],axis=1).columns:\n",
    "    car[column]=le.fit_transform(car[column])\n",
    "car"
   ]
  },
  {
   "cell_type": "code",
   "execution_count": 14,
   "id": "1da5a7cc",
   "metadata": {},
   "outputs": [
    {
     "data": {
      "image/png": "[encoded data removed]",
      "text/plain": [
       "<Figure size 1008x720 with 2 Axes>"
      ]
     },
     "metadata": {
      "needs_background": "light"
     },
     "output_type": "display_data"
    }
   ],
   "source": [
    "plt.figure(figsize=(14,10))\n",
    "sn.heatmap(round(car.describe()[1:].transpose(),2),lw=2,linecolor='black',annot=True,fmt='f',color='red')\n",
    "plt.xticks(fontsize=18)\n",
    "plt.yticks(fontsize=18)\n",
    "plt.title('Variable Summary')\n",
    "plt.show()"
   ]
  },
  {
   "cell_type": "code",
   "execution_count": 15,
   "id": "b7c33d7a",
   "metadata": {},
   "outputs": [
    {
     "name": "stdout",
     "output_type": "stream",
     "text": [
      "<class 'pandas.core.frame.DataFrame'>\n",
      "RangeIndex: 5050 entries, 0 to 5049\n",
      "Data columns (total 9 columns):\n",
      " #   Column              Non-Null Count  Dtype\n",
      "---  ------              --------------  -----\n",
      " 0   Brand & Model       5050 non-null   int32\n",
      " 1   Varient             5050 non-null   int32\n",
      " 2   Fuel Type           5050 non-null   int32\n",
      " 3   Driven Kilometers   5050 non-null   int32\n",
      " 4   Transmission        5050 non-null   int32\n",
      " 5   Owner               5050 non-null   int32\n",
      " 6   Location            5050 non-null   int32\n",
      " 7   Date of Posting Ad  5050 non-null   int32\n",
      " 8   Price (in ₹)        5050 non-null   int64\n",
      "dtypes: int32(8), int64(1)\n",
      "memory usage: 197.4 KB\n"
     ]
    }
   ],
   "source": [
    "car.info()"
   ]
  },
  {
   "cell_type": "code",
   "execution_count": 16,
   "id": "1bf54389",
   "metadata": {},
   "outputs": [
    {
     "data": {
      "text/html": [
       "<div>\n",
       "<style scoped>\n",
       "    .dataframe tbody tr th:only-of-type {\n",
       "        vertical-align: middle;\n",
       "    }\n",
       "\n",
       "    .dataframe tbody tr th {\n",
       "        vertical-align: top;\n",
       "    }\n",
       "\n",
       "    .dataframe thead th {\n",
       "        text-align: right;\n",
       "    }\n",
       "</style>\n",
       "<table border=\"1\" class=\"dataframe\">\n",
       "  <thead>\n",
       "    <tr style=\"text-align: right;\">\n",
       "      <th></th>\n",
       "      <th>Brand &amp; Model</th>\n",
       "      <th>Varient</th>\n",
       "      <th>Fuel Type</th>\n",
       "      <th>Driven Kilometers</th>\n",
       "      <th>Transmission</th>\n",
       "      <th>Owner</th>\n",
       "      <th>Location</th>\n",
       "      <th>Date of Posting Ad</th>\n",
       "      <th>Price (in ₹)</th>\n",
       "    </tr>\n",
       "  </thead>\n",
       "  <tbody>\n",
       "    <tr>\n",
       "      <th>count</th>\n",
       "      <td>5050.000000</td>\n",
       "      <td>5050.000000</td>\n",
       "      <td>5050.000000</td>\n",
       "      <td>5050.000000</td>\n",
       "      <td>5050.000000</td>\n",
       "      <td>5050.000000</td>\n",
       "      <td>5050.000000</td>\n",
       "      <td>5050.000000</td>\n",
       "      <td>5.050000e+03</td>\n",
       "    </tr>\n",
       "    <tr>\n",
       "      <th>mean</th>\n",
       "      <td>135.385743</td>\n",
       "      <td>220.393069</td>\n",
       "      <td>5.414059</td>\n",
       "      <td>393.438416</td>\n",
       "      <td>10.869901</td>\n",
       "      <td>1.358218</td>\n",
       "      <td>91.566337</td>\n",
       "      <td>27.202772</td>\n",
       "      <td>6.013569e+05</td>\n",
       "    </tr>\n",
       "    <tr>\n",
       "      <th>std</th>\n",
       "      <td>87.839967</td>\n",
       "      <td>87.321643</td>\n",
       "      <td>1.622358</td>\n",
       "      <td>224.821809</td>\n",
       "      <td>2.266356</td>\n",
       "      <td>1.003360</td>\n",
       "      <td>54.478849</td>\n",
       "      <td>10.618227</td>\n",
       "      <td>5.099877e+05</td>\n",
       "    </tr>\n",
       "    <tr>\n",
       "      <th>min</th>\n",
       "      <td>0.000000</td>\n",
       "      <td>0.000000</td>\n",
       "      <td>0.000000</td>\n",
       "      <td>0.000000</td>\n",
       "      <td>0.000000</td>\n",
       "      <td>0.000000</td>\n",
       "      <td>0.000000</td>\n",
       "      <td>0.000000</td>\n",
       "      <td>1.500000e+04</td>\n",
       "    </tr>\n",
       "    <tr>\n",
       "      <th>25%</th>\n",
       "      <td>65.000000</td>\n",
       "      <td>156.000000</td>\n",
       "      <td>4.000000</td>\n",
       "      <td>201.000000</td>\n",
       "      <td>10.000000</td>\n",
       "      <td>1.000000</td>\n",
       "      <td>43.000000</td>\n",
       "      <td>19.000000</td>\n",
       "      <td>3.615990e+05</td>\n",
       "    </tr>\n",
       "    <tr>\n",
       "      <th>50%</th>\n",
       "      <td>126.000000</td>\n",
       "      <td>242.000000</td>\n",
       "      <td>6.000000</td>\n",
       "      <td>394.000000</td>\n",
       "      <td>12.000000</td>\n",
       "      <td>1.000000</td>\n",
       "      <td>91.000000</td>\n",
       "      <td>27.000000</td>\n",
       "      <td>4.711990e+05</td>\n",
       "    </tr>\n",
       "    <tr>\n",
       "      <th>75%</th>\n",
       "      <td>186.000000</td>\n",
       "      <td>300.000000</td>\n",
       "      <td>7.000000</td>\n",
       "      <td>590.000000</td>\n",
       "      <td>12.000000</td>\n",
       "      <td>1.000000</td>\n",
       "      <td>142.000000</td>\n",
       "      <td>36.000000</td>\n",
       "      <td>6.783990e+05</td>\n",
       "    </tr>\n",
       "    <tr>\n",
       "      <th>max</th>\n",
       "      <td>381.000000</td>\n",
       "      <td>344.000000</td>\n",
       "      <td>8.000000</td>\n",
       "      <td>785.000000</td>\n",
       "      <td>14.000000</td>\n",
       "      <td>9.000000</td>\n",
       "      <td>184.000000</td>\n",
       "      <td>61.000000</td>\n",
       "      <td>7.175000e+06</td>\n",
       "    </tr>\n",
       "  </tbody>\n",
       "</table>\n",
       "</div>"
      ],
      "text/plain": [
       "       Brand & Model      Varient    Fuel Type  Driven Kilometers  \\\n",
       "count    5050.000000  5050.000000  5050.000000        5050.000000   \n",
       "mean      135.385743   220.393069     5.414059         393.438416   \n",
       "std        87.839967    87.321643     1.622358         224.821809   \n",
       "min         0.000000     0.000000     0.000000           0.000000   \n",
       "25%        65.000000   156.000000     4.000000         201.000000   \n",
       "50%       126.000000   242.000000     6.000000         394.000000   \n",
       "75%       186.000000   300.000000     7.000000         590.000000   \n",
       "max       381.000000   344.000000     8.000000         785.000000   \n",
       "\n",
       "       Transmission        Owner     Location  Date of Posting Ad  \\\n",
       "count   5050.000000  5050.000000  5050.000000         5050.000000   \n",
       "mean      10.869901     1.358218    91.566337           27.202772   \n",
       "std        2.266356     1.003360    54.478849           10.618227   \n",
       "min        0.000000     0.000000     0.000000            0.000000   \n",
       "25%       10.000000     1.000000    43.000000           19.000000   \n",
       "50%       12.000000     1.000000    91.000000           27.000000   \n",
       "75%       12.000000     1.000000   142.000000           36.000000   \n",
       "max       14.000000     9.000000   184.000000           61.000000   \n",
       "\n",
       "       Price (in ₹)  \n",
       "count  5.050000e+03  \n",
       "mean   6.013569e+05  \n",
       "std    5.099877e+05  \n",
       "min    1.500000e+04  \n",
       "25%    3.615990e+05  \n",
       "50%    4.711990e+05  \n",
       "75%    6.783990e+05  \n",
       "max    7.175000e+06  "
      ]
     },
     "execution_count": 16,
     "metadata": {},
     "output_type": "execute_result"
    }
   ],
   "source": [
    "car.describe()"
   ]
  },
  {
   "cell_type": "markdown",
   "id": "c2a3eb79",
   "metadata": {},
   "source": [
    "# Cleaned data"
   ]
  },
  {
   "cell_type": "code",
   "execution_count": 17,
   "id": "31ffbc49",
   "metadata": {},
   "outputs": [
    {
     "data": {
      "text/html": [
       "<div>\n",
       "<style scoped>\n",
       "    .dataframe tbody tr th:only-of-type {\n",
       "        vertical-align: middle;\n",
       "    }\n",
       "\n",
       "    .dataframe tbody tr th {\n",
       "        vertical-align: top;\n",
       "    }\n",
       "\n",
       "    .dataframe thead th {\n",
       "        text-align: right;\n",
       "    }\n",
       "</style>\n",
       "<table border=\"1\" class=\"dataframe\">\n",
       "  <thead>\n",
       "    <tr style=\"text-align: right;\">\n",
       "      <th></th>\n",
       "      <th>Brand &amp; Model</th>\n",
       "      <th>Varient</th>\n",
       "      <th>Fuel Type</th>\n",
       "      <th>Driven Kilometers</th>\n",
       "      <th>Transmission</th>\n",
       "      <th>Owner</th>\n",
       "      <th>Location</th>\n",
       "      <th>Date of Posting Ad</th>\n",
       "      <th>Price (in ₹)</th>\n",
       "    </tr>\n",
       "  </thead>\n",
       "  <tbody>\n",
       "    <tr>\n",
       "      <th>0</th>\n",
       "      <td>266</td>\n",
       "      <td>143</td>\n",
       "      <td>3</td>\n",
       "      <td>543</td>\n",
       "      <td>10</td>\n",
       "      <td>1</td>\n",
       "      <td>123</td>\n",
       "      <td>31</td>\n",
       "      <td>435000</td>\n",
       "    </tr>\n",
       "    <tr>\n",
       "      <th>1</th>\n",
       "      <td>243</td>\n",
       "      <td>22</td>\n",
       "      <td>3</td>\n",
       "      <td>419</td>\n",
       "      <td>10</td>\n",
       "      <td>1</td>\n",
       "      <td>2</td>\n",
       "      <td>28</td>\n",
       "      <td>1165101</td>\n",
       "    </tr>\n",
       "    <tr>\n",
       "      <th>2</th>\n",
       "      <td>255</td>\n",
       "      <td>130</td>\n",
       "      <td>6</td>\n",
       "      <td>159</td>\n",
       "      <td>10</td>\n",
       "      <td>2</td>\n",
       "      <td>33</td>\n",
       "      <td>30</td>\n",
       "      <td>815000</td>\n",
       "    </tr>\n",
       "    <tr>\n",
       "      <th>3</th>\n",
       "      <td>226</td>\n",
       "      <td>79</td>\n",
       "      <td>6</td>\n",
       "      <td>80</td>\n",
       "      <td>10</td>\n",
       "      <td>1</td>\n",
       "      <td>115</td>\n",
       "      <td>20</td>\n",
       "      <td>270000</td>\n",
       "    </tr>\n",
       "    <tr>\n",
       "      <th>4</th>\n",
       "      <td>246</td>\n",
       "      <td>121</td>\n",
       "      <td>6</td>\n",
       "      <td>656</td>\n",
       "      <td>10</td>\n",
       "      <td>1</td>\n",
       "      <td>42</td>\n",
       "      <td>20</td>\n",
       "      <td>185000</td>\n",
       "    </tr>\n",
       "    <tr>\n",
       "      <th>...</th>\n",
       "      <td>...</td>\n",
       "      <td>...</td>\n",
       "      <td>...</td>\n",
       "      <td>...</td>\n",
       "      <td>...</td>\n",
       "      <td>...</td>\n",
       "      <td>...</td>\n",
       "      <td>...</td>\n",
       "      <td>...</td>\n",
       "    </tr>\n",
       "    <tr>\n",
       "      <th>5045</th>\n",
       "      <td>358</td>\n",
       "      <td>87</td>\n",
       "      <td>5</td>\n",
       "      <td>484</td>\n",
       "      <td>6</td>\n",
       "      <td>1</td>\n",
       "      <td>6</td>\n",
       "      <td>28</td>\n",
       "      <td>50000</td>\n",
       "    </tr>\n",
       "    <tr>\n",
       "      <th>5046</th>\n",
       "      <td>375</td>\n",
       "      <td>56</td>\n",
       "      <td>4</td>\n",
       "      <td>97</td>\n",
       "      <td>12</td>\n",
       "      <td>1</td>\n",
       "      <td>81</td>\n",
       "      <td>28</td>\n",
       "      <td>320000</td>\n",
       "    </tr>\n",
       "    <tr>\n",
       "      <th>5047</th>\n",
       "      <td>351</td>\n",
       "      <td>122</td>\n",
       "      <td>7</td>\n",
       "      <td>472</td>\n",
       "      <td>6</td>\n",
       "      <td>1</td>\n",
       "      <td>126</td>\n",
       "      <td>28</td>\n",
       "      <td>599000</td>\n",
       "    </tr>\n",
       "    <tr>\n",
       "      <th>5048</th>\n",
       "      <td>353</td>\n",
       "      <td>131</td>\n",
       "      <td>7</td>\n",
       "      <td>586</td>\n",
       "      <td>12</td>\n",
       "      <td>1</td>\n",
       "      <td>87</td>\n",
       "      <td>31</td>\n",
       "      <td>395000</td>\n",
       "    </tr>\n",
       "    <tr>\n",
       "      <th>5049</th>\n",
       "      <td>369</td>\n",
       "      <td>133</td>\n",
       "      <td>4</td>\n",
       "      <td>544</td>\n",
       "      <td>12</td>\n",
       "      <td>1</td>\n",
       "      <td>78</td>\n",
       "      <td>28</td>\n",
       "      <td>580000</td>\n",
       "    </tr>\n",
       "  </tbody>\n",
       "</table>\n",
       "<p>5050 rows × 9 columns</p>\n",
       "</div>"
      ],
      "text/plain": [
       "      Brand & Model  Varient  Fuel Type  Driven Kilometers  Transmission  \\\n",
       "0               266      143          3                543            10   \n",
       "1               243       22          3                419            10   \n",
       "2               255      130          6                159            10   \n",
       "3               226       79          6                 80            10   \n",
       "4               246      121          6                656            10   \n",
       "...             ...      ...        ...                ...           ...   \n",
       "5045            358       87          5                484             6   \n",
       "5046            375       56          4                 97            12   \n",
       "5047            351      122          7                472             6   \n",
       "5048            353      131          7                586            12   \n",
       "5049            369      133          4                544            12   \n",
       "\n",
       "      Owner  Location  Date of Posting Ad  Price (in ₹)  \n",
       "0         1       123                  31        435000  \n",
       "1         1         2                  28       1165101  \n",
       "2         2        33                  30        815000  \n",
       "3         1       115                  20        270000  \n",
       "4         1        42                  20        185000  \n",
       "...     ...       ...                 ...           ...  \n",
       "5045      1         6                  28         50000  \n",
       "5046      1        81                  28        320000  \n",
       "5047      1       126                  28        599000  \n",
       "5048      1        87                  31        395000  \n",
       "5049      1        78                  28        580000  \n",
       "\n",
       "[5050 rows x 9 columns]"
      ]
     },
     "execution_count": 17,
     "metadata": {},
     "output_type": "execute_result"
    }
   ],
   "source": [
    "car"
   ]
  },
  {
   "cell_type": "markdown",
   "id": "83efdc08",
   "metadata": {},
   "source": [
    "# Data Visualizing"
   ]
  },
  {
   "cell_type": "code",
   "execution_count": 18,
   "id": "f085058a",
   "metadata": {
    "scrolled": true
   },
   "outputs": [
    {
     "data": {
      "text/plain": [
       "<AxesSubplot:>"
      ]
     },
     "execution_count": 18,
     "metadata": {},
     "output_type": "execute_result"
    },
    {
     "data": {
      "image/png": "[encoded data removed]",
      "text/plain": [
       "<Figure size 1080x576 with 2 Axes>"
      ]
     },
     "metadata": {
      "needs_background": "light"
     },
     "output_type": "display_data"
    }
   ],
   "source": [
    "plt.figure(figsize=(15,8))\n",
    "sn.heatmap(car.corr(), linewidth=0.1, cmap=\"YlGnBu\", annot = True)"
   ]
  },
  {
   "cell_type": "code",
   "execution_count": 19,
   "id": "bbc8e7ec",
   "metadata": {},
   "outputs": [
    {
     "data": {
      "text/plain": [
       "<AxesSubplot:xlabel='Fuel Type', ylabel='Density'>"
      ]
     },
     "execution_count": 19,
     "metadata": {},
     "output_type": "execute_result"
    },
    {
     "data": {
      "image/png": "[encoded data removed]",
      "text/plain": [
       "<Figure size 432x288 with 1 Axes>"
      ]
     },
     "metadata": {
      "needs_background": "light"
     },
     "output_type": "display_data"
    }
   ],
   "source": [
    "sn.distplot(car['Fuel Type'])"
   ]
  },
  {
   "cell_type": "code",
   "execution_count": 20,
   "id": "b3edfa51",
   "metadata": {},
   "outputs": [
    {
     "data": {
      "text/plain": [
       "<AxesSubplot:xlabel='Price (in ₹)', ylabel='Density'>"
      ]
     },
     "execution_count": 20,
     "metadata": {},
     "output_type": "execute_result"
    },
    {
     "data": {
      "image/png": "[encoded data removed]",
      "text/plain": [
       "<Figure size 432x288 with 1 Axes>"
      ]
     },
     "metadata": {
      "needs_background": "light"
     },
     "output_type": "display_data"
    }
   ],
   "source": [
    "sn.distplot(car['Price (in ₹)'])"
   ]
  },
  {
   "cell_type": "code",
   "execution_count": 21,
   "id": "381be4c6",
   "metadata": {},
   "outputs": [
    {
     "data": {
      "image/png": "[encoded data removed]",
      "text/plain": [
       "<Figure size 1440x1440 with 9 Axes>"
      ]
     },
     "metadata": {
      "needs_background": "light"
     },
     "output_type": "display_data"
    }
   ],
   "source": [
    "collist=car.columns.values\n",
    "plt.figure(figsize=(20,20))\n",
    "for i in range(0,len(collist)):\n",
    "    plt.subplot(3,3,i+1)\n",
    "    sn.histplot(data=car[collist[i]],color='red').set_xticklabels(labels=car[collist[i]].unique(),rotation=90)\n",
    "    plt.tight_layout()"
   ]
  },
  {
   "cell_type": "code",
   "execution_count": 22,
   "id": "50ad3fbf",
   "metadata": {},
   "outputs": [
    {
     "data": {
      "image/png": "[encoded data removed]",
      "text/plain": [
       "<Figure size 1440x1440 with 3 Axes>"
      ]
     },
     "metadata": {
      "needs_background": "light"
     },
     "output_type": "display_data"
    }
   ],
   "source": [
    "newcollist=['Fuel Type','Transmission','Owner']\n",
    "plt.figure(figsize=(20,20))\n",
    "for i in enumerate(newcollist):\n",
    "    plt.subplot(3,3,i[0]+1)\n",
    "    sn.barplot(data=car,x=i[1],y='Price (in ₹)',color='red')\n",
    "    plt.xticks(rotation=90)\n",
    "    plt.tight_layout()"
   ]
  },
  {
   "cell_type": "markdown",
   "id": "7f9bb00f",
   "metadata": {},
   "source": [
    "# Model Building"
   ]
  },
  {
   "cell_type": "code",
   "execution_count": 23,
   "id": "f122d2bb",
   "metadata": {},
   "outputs": [],
   "source": [
    "x= car.drop(['Price (in ₹)'],axis=1)\n",
    "y=car['Price (in ₹)']"
   ]
  },
  {
   "cell_type": "code",
   "execution_count": 24,
   "id": "3a05a3ae",
   "metadata": {},
   "outputs": [],
   "source": [
    "x=power_transform(x,method='yeo-johnson')\n",
    "scale = StandardScaler()\n",
    "x=scale.fit_transform(x)"
   ]
  },
  {
   "cell_type": "code",
   "execution_count": 25,
   "id": "ec796fa3",
   "metadata": {},
   "outputs": [
    {
     "name": "stdout",
     "output_type": "stream",
     "text": [
      "SVR Regressor Score: -0.06325370730174851\n",
      "SVR Regressor r2_score: -0.06820672247987791\n",
      "Mean squared error of SVR Regressor: 297284446193.9865\n",
      "Root Mean Square error of SVR Regressor: 545237.9720764012\n"
     ]
    }
   ],
   "source": [
    "xtrain, xtest, ytrain, ytest = train_test_split(x, y, test_size = 0.3, random_state = 45)\n",
    "svr = SVR()\n",
    "svr.fit(xtrain,ytrain)\n",
    "pred_train_svr=svr.predict(xtrain)\n",
    "pred_test_svr=svr.predict(xtest)\n",
    "print('SVR Regressor Score:',svr.score(xtrain,ytrain))\n",
    "print('SVR Regressor r2_score:',r2_score(ytest,pred_test_svr))\n",
    "print(\"Mean squared error of SVR Regressor:\",mean_squared_error(ytest,pred_test_svr))\n",
    "print(\"Root Mean Square error of SVR Regressor:\",np.sqrt(mean_squared_error(ytest,pred_test_svr)))"
   ]
  },
  {
   "cell_type": "code",
   "execution_count": 26,
   "id": "2573ed92",
   "metadata": {},
   "outputs": [
    {
     "name": "stdout",
     "output_type": "stream",
     "text": [
      "Linear Regression Score: 0.055020586349048384\n",
      "Linear Regression r2_score: 0.061364713139148486\n",
      "Mean squared error of Linear Regression: 261224410556.7481\n",
      "Root Mean Square error of Linear Regression: 511101.1744818712\n"
     ]
    }
   ],
   "source": [
    "lr= LinearRegression()\n",
    "lr.fit(xtrain,ytrain)\n",
    "lr.coef_\n",
    "pred_train=lr.predict(xtrain)\n",
    "pred_test=lr.predict(xtest)\n",
    "print('Linear Regression Score:',lr.score(xtrain,ytrain))\n",
    "print('Linear Regression r2_score:',r2_score(ytest,pred_test))\n",
    "print(\"Mean squared error of Linear Regression:\",mean_squared_error(ytest,pred_test))\n",
    "print(\"Root Mean Square error of Linear Regression:\",np.sqrt(mean_squared_error(ytest,pred_test)))"
   ]
  },
  {
   "cell_type": "code",
   "execution_count": 27,
   "id": "a97d5c0d",
   "metadata": {},
   "outputs": [
    {
     "name": "stdout",
     "output_type": "stream",
     "text": [
      "SGD Regressor Score: 0.05464314355374378\n",
      "SGD Regressor r2_score: 0.06117735067154739\n",
      "Mean squared error of SGD Regressor: 261276553972.66766\n",
      "Root Mean Square error of SGD Regressor: 511152.1827916493\n"
     ]
    }
   ],
   "source": [
    "sgd=SGDRegressor()\n",
    "sgd.fit(xtrain,ytrain)\n",
    "pred_train_sgd=sgd.predict(xtrain)\n",
    "pred_test_sgd=sgd.predict(xtest)\n",
    "print('SGD Regressor Score:',sgd.score(xtrain,ytrain))\n",
    "print('SGD Regressor r2_score:',r2_score(ytest,pred_test_sgd))\n",
    "print(\"Mean squared error of SGD Regressor:\",mean_squared_error(ytest,pred_test_sgd))\n",
    "print(\"Root Mean Square error of SGD Regressor:\",np.sqrt(mean_squared_error(ytest,pred_test_sgd)))"
   ]
  },
  {
   "cell_type": "code",
   "execution_count": 28,
   "id": "99e93d0d",
   "metadata": {},
   "outputs": [
    {
     "name": "stdout",
     "output_type": "stream",
     "text": [
      "K Neighbors Regressor Score: 0.748266387098428\n",
      "K Neighbors Regressor r2_score: 0.6042476227806619\n",
      "Mean squared error of K Neighbors Regressor: 110138818466.21764\n",
      "Root Mean Square error of K Neighbors Regressor: 331871.68976310355\n"
     ]
    }
   ],
   "source": [
    "knr = KNeighborsRegressor()\n",
    "knr.fit(xtrain,ytrain)\n",
    "pred_train_knr=knr.predict(xtrain)\n",
    "pred_test_knr=knr.predict(xtest)\n",
    "print('K Neighbors Regressor Score:',knr.score(xtrain,ytrain))\n",
    "print('K Neighbors Regressor r2_score:',r2_score(ytest,pred_test_knr))\n",
    "print(\"Mean squared error of K Neighbors Regressor:\",mean_squared_error(ytest,pred_test_knr))\n",
    "print(\"Root Mean Square error of K Neighbors Regressor:\",np.sqrt(mean_squared_error(ytest,pred_test_knr)))"
   ]
  },
  {
   "cell_type": "code",
   "execution_count": 29,
   "id": "666b0281",
   "metadata": {},
   "outputs": [
    {
     "name": "stdout",
     "output_type": "stream",
     "text": [
      "Decision Tree Regressor Score: 0.9979397374843745\n",
      "Decision Tree Regressor r2_score: 0.8184316547263707\n",
      "Mean squared error of Decision Tree Regressor: 50530898032.28251\n",
      "Root Mean Square error of Decision Tree Regressor: 224790.78724957237\n"
     ]
    }
   ],
   "source": [
    "dtr=DecisionTreeRegressor(criterion='mse')\n",
    "dtr.fit(xtrain,ytrain)\n",
    "pred_train_dtr=dtr.predict(xtrain)\n",
    "pred_test_dtr=dtr.predict(xtest)\n",
    "print('Decision Tree Regressor Score:',dtr.score(xtrain,ytrain))\n",
    "print('Decision Tree Regressor r2_score:',r2_score(ytest,pred_test_dtr))\n",
    "print(\"Mean squared error of Decision Tree Regressor:\",mean_squared_error(ytest,pred_test_dtr))\n",
    "print(\"Root Mean Square error of Decision Tree Regressor:\",np.sqrt(mean_squared_error(ytest,pred_test_dtr)))"
   ]
  },
  {
   "cell_type": "code",
   "execution_count": 30,
   "id": "b9188c06",
   "metadata": {},
   "outputs": [
    {
     "name": "stdout",
     "output_type": "stream",
     "text": [
      "Random Forest Regressor Score: 0.9817688006335343\n",
      "Random Forest Regressor r2_score: 0.8806595329237101\n",
      "Mean squared error of Random Forest Regressor: 33212733000.72759\n",
      "Root Mean Square error of Random Forest Regressor: 182243.6089434348\n"
     ]
    }
   ],
   "source": [
    "rf=RandomForestRegressor()\n",
    "rf.fit(xtrain,ytrain)\n",
    "pred_train_rf=rf.predict(xtrain)\n",
    "pred_test_rf=rf.predict(xtest)\n",
    "print('Random Forest Regressor Score:',rf.score(xtrain,ytrain))\n",
    "print('Random Forest Regressor r2_score:',r2_score(ytest,pred_test_rf))\n",
    "print(\"Mean squared error of Random Forest Regressor:\",mean_squared_error(ytest,pred_test_rf))\n",
    "print(\"Root Mean Square error of Random Forest Regressor:\",np.sqrt(mean_squared_error(ytest,pred_test_rf)))"
   ]
  },
  {
   "cell_type": "markdown",
   "id": "3903c464",
   "metadata": {},
   "source": [
    "# Cross Validation Score"
   ]
  },
  {
   "cell_type": "code",
   "execution_count": 31,
   "id": "4cd4d13f",
   "metadata": {},
   "outputs": [
    {
     "name": "stdout",
     "output_type": "stream",
     "text": [
      "Cross Validation Score of SVR is -6.937914977243179\n",
      "Cross Validation Score of Linear Regression is -3.979872647154285\n",
      "Cross Validation Score of SGD Regressor is -3.0402215072155614\n",
      "Cross Validation Score of KNeighbors Regressor is 41.907276781914064\n",
      "Cross Validation Score of Decision Tree Regressor is 60.41317109803019\n",
      "Cross Validation Score of Random Forest Regressor is 79.43901174089085\n"
     ]
    }
   ],
   "source": [
    "print('Cross Validation Score of SVR is',(cvs(svr,x,y,cv=5).mean())*100)\n",
    "print('Cross Validation Score of Linear Regression is',(cvs(lr,x,y,cv=5).mean())*100)\n",
    "print('Cross Validation Score of SGD Regressor is',(cvs(sgd,x,y,cv=5).mean())*100)\n",
    "print('Cross Validation Score of KNeighbors Regressor is',(cvs(knr,x,y,cv=5).mean())*100)\n",
    "print('Cross Validation Score of Decision Tree Regressor is',(cvs(dtr,x,y,cv=5).mean())*100)\n",
    "print('Cross Validation Score of Random Forest Regressor is',(cvs(rf,x,y,cv=5).mean())*100)"
   ]
  },
  {
   "cell_type": "markdown",
   "id": "48c0f5b8",
   "metadata": {},
   "source": [
    "# Hyper Parameter Tuning"
   ]
  },
  {
   "cell_type": "code",
   "execution_count": 32,
   "id": "757f1241",
   "metadata": {},
   "outputs": [
    {
     "data": {
      "text/plain": [
       "{'bootstrap': False,\n",
       " 'max_features': 'sqrt',\n",
       " 'min_samples_leaf': 1,\n",
       " 'min_samples_split': 2}"
      ]
     },
     "execution_count": 32,
     "metadata": {},
     "output_type": "execute_result"
    }
   ],
   "source": [
    "parameter = { 'bootstrap': [True, False],\n",
    " 'max_features': ['auto', 'sqrt'],\n",
    " 'min_samples_leaf': [1, 2, 4],\n",
    " 'min_samples_split': [2, 5, 10],}\n",
    "\n",
    "gvc = GridSearchCV(RandomForestRegressor(),parameter,cv=5)\n",
    "gvc.fit(xtrain,ytrain)\n",
    "gvc.best_params_"
   ]
  },
  {
   "cell_type": "code",
   "execution_count": 33,
   "id": "cdd8d24f",
   "metadata": {},
   "outputs": [
    {
     "name": "stdout",
     "output_type": "stream",
     "text": [
      "Score of Hyper Parameter Tuned Ranfom Forest Regressor is: 0.9979397374843745\n",
      "Accuracy for predicting price of car is 87.52744279658428 %\n",
      "Mean squared error of Hyper Parameter Tuned Random Forest Regressor: 34711420390.91697\n",
      "Root Mean Square error of Hyper Parameter Tuned Random Forest Regressor: 186310.01151553012\n"
     ]
    }
   ],
   "source": [
    "pricecar = RandomForestRegressor(bootstrap=False,min_samples_leaf=1,max_features='sqrt',min_samples_split=2)\n",
    "pricecar.fit(xtrain,ytrain)\n",
    "pred=pricecar.predict(xtest)\n",
    "acc=r2_score(ytest,pred)\n",
    "print('Score of Hyper Parameter Tuned Ranfom Forest Regressor is:',pricecar.score(xtrain,ytrain))\n",
    "print('Accuracy for predicting price of car is', (acc*100),'%')\n",
    "print(\"Mean squared error of Hyper Parameter Tuned Random Forest Regressor:\",mean_squared_error(ytest,pred))\n",
    "print(\"Root Mean Square error of Hyper Parameter Tuned Random Forest Regressor:\",np.sqrt(mean_squared_error(ytest,pred)))"
   ]
  },
  {
   "cell_type": "markdown",
   "id": "8feb8d3e",
   "metadata": {},
   "source": [
    "# Conclusion"
   ]
  },
  {
   "cell_type": "code",
   "execution_count": 34,
   "id": "5c1864aa",
   "metadata": {},
   "outputs": [
    {
     "data": {
      "text/html": [
       "<div>\n",
       "<style scoped>\n",
       "    .dataframe tbody tr th:only-of-type {\n",
       "        vertical-align: middle;\n",
       "    }\n",
       "\n",
       "    .dataframe tbody tr th {\n",
       "        vertical-align: top;\n",
       "    }\n",
       "\n",
       "    .dataframe thead th {\n",
       "        text-align: right;\n",
       "    }\n",
       "</style>\n",
       "<table border=\"1\" class=\"dataframe\">\n",
       "  <thead>\n",
       "    <tr style=\"text-align: right;\">\n",
       "      <th></th>\n",
       "      <th>Original</th>\n",
       "      <th>Predicted</th>\n",
       "    </tr>\n",
       "  </thead>\n",
       "  <tbody>\n",
       "    <tr>\n",
       "      <th>0</th>\n",
       "      <td>675000</td>\n",
       "      <td>675000.0</td>\n",
       "    </tr>\n",
       "    <tr>\n",
       "      <th>1</th>\n",
       "      <td>619899</td>\n",
       "      <td>619899.0</td>\n",
       "    </tr>\n",
       "    <tr>\n",
       "      <th>2</th>\n",
       "      <td>528199</td>\n",
       "      <td>528199.0</td>\n",
       "    </tr>\n",
       "    <tr>\n",
       "      <th>3</th>\n",
       "      <td>380000</td>\n",
       "      <td>380000.0</td>\n",
       "    </tr>\n",
       "    <tr>\n",
       "      <th>4</th>\n",
       "      <td>303799</td>\n",
       "      <td>303799.0</td>\n",
       "    </tr>\n",
       "    <tr>\n",
       "      <th>...</th>\n",
       "      <td>...</td>\n",
       "      <td>...</td>\n",
       "    </tr>\n",
       "    <tr>\n",
       "      <th>1510</th>\n",
       "      <td>776799</td>\n",
       "      <td>776799.0</td>\n",
       "    </tr>\n",
       "    <tr>\n",
       "      <th>1511</th>\n",
       "      <td>384899</td>\n",
       "      <td>493592.0</td>\n",
       "    </tr>\n",
       "    <tr>\n",
       "      <th>1512</th>\n",
       "      <td>391599</td>\n",
       "      <td>521976.0</td>\n",
       "    </tr>\n",
       "    <tr>\n",
       "      <th>1513</th>\n",
       "      <td>502699</td>\n",
       "      <td>502699.0</td>\n",
       "    </tr>\n",
       "    <tr>\n",
       "      <th>1514</th>\n",
       "      <td>475000</td>\n",
       "      <td>475000.0</td>\n",
       "    </tr>\n",
       "  </tbody>\n",
       "</table>\n",
       "<p>1515 rows × 2 columns</p>\n",
       "</div>"
      ],
      "text/plain": [
       "      Original  Predicted\n",
       "0       675000   675000.0\n",
       "1       619899   619899.0\n",
       "2       528199   528199.0\n",
       "3       380000   380000.0\n",
       "4       303799   303799.0\n",
       "...        ...        ...\n",
       "1510    776799   776799.0\n",
       "1511    384899   493592.0\n",
       "1512    391599   521976.0\n",
       "1513    502699   502699.0\n",
       "1514    475000   475000.0\n",
       "\n",
       "[1515 rows x 2 columns]"
      ]
     },
     "execution_count": 34,
     "metadata": {},
     "output_type": "execute_result"
    }
   ],
   "source": [
    "a= np.array(ytest)\n",
    "predicted = np.array(pricecar.predict(xtest))\n",
    "Price=pd.DataFrame({\"Original\":a,\"Predicted\":predicted},index=range(len(a)))\n",
    "Price"
   ]
  },
  {
   "cell_type": "code",
   "execution_count": null,
   "id": "9099b3cb",
   "metadata": {},
   "outputs": [],
   "source": []
  },
  {
   "cell_type": "code",
   "execution_count": null,
   "id": "197802f6",
   "metadata": {},
   "outputs": [],
   "source": []
  },
  {
   "cell_type": "code",
   "execution_count": null,
   "id": "1565c3f1",
   "metadata": {},
   "outputs": [],
   "source": []
  }
 ],
 "metadata": {
  "kernelspec": {
   "display_name": "Python 3",
   "language": "python",
   "name": "python3"
  },
  "language_info": {
   "codemirror_mode": {
    "name": "ipython",
    "version": 3
   },
   "file_extension": ".py",
   "mimetype": "text/x-python",
   "name": "python",
   "nbconvert_exporter": "python",
   "pygments_lexer": "ipython3",
   "version": "3.8.8"
  }
 },
 "nbformat": 4,
 "nbformat_minor": 5
}
